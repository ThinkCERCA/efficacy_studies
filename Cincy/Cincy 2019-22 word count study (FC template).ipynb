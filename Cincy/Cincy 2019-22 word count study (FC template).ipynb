{
 "cells": [
  {
   "cell_type": "code",
   "execution_count": 25,
   "id": "0b6f3102",
   "metadata": {},
   "outputs": [],
   "source": [
    "# import packages\n",
    "import pandas as pd\n",
    "import os\n",
    "import glob\n",
    "import random\n",
    "import numpy as np\n",
    "import statistics\n",
    "import warnings\n",
    "warnings.filterwarnings('ignore')\n",
    "\n",
    "from scipy.stats import ttest_rel\n",
    "import matplotlib.pyplot as plt\n",
    "import seaborn as sns\n",
    "from matplotlib import rcParams\n",
    "import matplotlib.patches as mpatches\n",
    "\n",
    "import statsmodels.api as sm\n",
    "from sklearn.metrics import mean_squared_error\n",
    "from sklearn.metrics import accuracy_score\n",
    "from sklearn.model_selection import train_test_split\n",
    "from sklearn.pipeline import make_pipeline\n",
    "from sklearn.preprocessing import PolynomialFeatures\n",
    "from sklearn.linear_model import LassoCV\n",
    "from sklearn.ensemble import RandomForestRegressor\n",
    "from sklearn.metrics import r2_score\n",
    "import statsmodels.formula.api as smf\n",
    "from scipy import stats\n",
    "from scipy.stats import norm"
   ]
  },
  {
   "cell_type": "markdown",
   "id": "20ffc8e4",
   "metadata": {},
   "source": [
    "## Data Prep"
   ]
  },
  {
   "cell_type": "code",
   "execution_count": 26,
   "id": "e09e6de7",
   "metadata": {},
   "outputs": [],
   "source": [
    "# import word count .csv file from local path\n",
    "path = r'/Users/spencersu/Desktop/Cincy'\n",
    "bchmrk = pd.read_csv(os.path.join(path, 'Cincy Benchmark 2019-22.csv')) # 318 rows × 14 columns\n",
    "wrtlsn = pd.read_csv(os.path.join(path, 'Cincy Writing Lesson 2019-22.csv')) #747 rows × 14 columns"
   ]
  },
  {
   "cell_type": "code",
   "execution_count": 27,
   "id": "5f321436",
   "metadata": {},
   "outputs": [
    {
     "data": {
      "text/plain": [
       "True"
      ]
     },
     "execution_count": 27,
     "metadata": {},
     "output_type": "execute_result"
    }
   ],
   "source": [
    "# check if there is na for word count\n",
    "bchmrk['Word Count'].isnull().any()\n",
    "wrtlsn['Word Count'].isnull().any()"
   ]
  },
  {
   "cell_type": "code",
   "execution_count": 28,
   "id": "770caaef",
   "metadata": {},
   "outputs": [],
   "source": [
    "# remove column: the first column \"Unnamed: 0\"\n",
    "bchmrk = bchmrk.iloc[:,1:14]\n",
    "\n",
    "## change data type into integer: 'Word Count' column\n",
    "# drop nan for Word Count column\n",
    "bchmrk = bchmrk.dropna(subset=['Word Count'])\n",
    "\n",
    "# replace ',' with ''\n",
    "bchmrk['Word Count'].replace(',','',regex=True,inplace=True)\n",
    "\n",
    "# convert data type of word count column into integer\n",
    "bchmrk['Word Count'] = bchmrk['Word Count'].astype(int)\n",
    "\n",
    "\n",
    "# wordcnt dataset now has 315 rows × 13 columns\n",
    "# data retrieved on Mar 23, 2022"
   ]
  },
  {
   "cell_type": "code",
   "execution_count": 29,
   "id": "1a8109b7",
   "metadata": {},
   "outputs": [],
   "source": [
    "# remove column: the first column \"Unnamed: 0\"\n",
    "wrtlsn = wrtlsn.iloc[:,1:14]\n",
    "\n",
    "## change data type into integer: 'Word Count' column\n",
    "# drop nan for Word Count column\n",
    "wrtlsn = wrtlsn.dropna(subset=['Word Count'])\n",
    "\n",
    "# replace ',' with ''\n",
    "wrtlsn['Word Count'].replace(',','',regex=True,inplace=True)\n",
    "\n",
    "# convert data type of word count column into integer\n",
    "wrtlsn['Word Count'] = wrtlsn['Word Count'].astype(int)\n",
    "\n",
    "# wordcnt dataset now has 720 rows × 13 columns\n",
    "# data retrieved on Mar 23, 2022"
   ]
  },
  {
   "cell_type": "markdown",
   "id": "09415bb1",
   "metadata": {},
   "source": [
    "## Data Overview"
   ]
  },
  {
   "cell_type": "code",
   "execution_count": 44,
   "id": "a0b09138",
   "metadata": {},
   "outputs": [
    {
     "name": "stdout",
     "output_type": "stream",
     "text": [
      "School Year  Lesson Type                   Enrolled Grade\n",
      "2019-2020    Benchmark - Baseline Writing  7                  1\n",
      "                                           8                  7\n",
      "                                           9                 31\n",
      "                                           10                46\n",
      "                                           11                15\n",
      "                                           12                 5\n",
      "             Benchmark - End-of-Year       8                  1\n",
      "                                           9                  7\n",
      "                                           10                 8\n",
      "                                           11                 5\n",
      "                                           12                 1\n",
      "             Benchmark - Mid-Year          7                  1\n",
      "                                           8                  5\n",
      "                                           9                 26\n",
      "                                           10                48\n",
      "                                           11                 9\n",
      "                                           12                 1\n",
      "2020-2021    Benchmark - Baseline Writing  8                  2\n",
      "                                           9                 33\n",
      "                                           10                 2\n",
      "                                           11                24\n",
      "                                           12                 6\n",
      "             Benchmark - Mid-Year          11                 1\n",
      "                                           12                 3\n",
      "2021-2022    Benchmark - Baseline Writing  8                  3\n",
      "                                           10                 9\n",
      "                                           11                15\n",
      "Name: Student Assignment ID, dtype: int64\n",
      "School Year  Lesson Type                 \n",
      "2019-2020    Benchmark - Baseline Writing    105\n",
      "             Benchmark - End-of-Year          22\n",
      "             Benchmark - Mid-Year             90\n",
      "2020-2021    Benchmark - Baseline Writing     67\n",
      "             Benchmark - Mid-Year              4\n",
      "2021-2022    Benchmark - Baseline Writing     27\n",
      "Name: Student Assignment ID, dtype: int64\n",
      "School Year\n",
      "2019-2020    217\n",
      "2020-2021     71\n",
      "2021-2022     27\n",
      "Name: Student Assignment ID, dtype: int64\n",
      "                            Student Assignment ID  Student ID\n",
      "School Year Enrolled Grade                                   \n",
      "2019-2020   7                                   1           1\n",
      "            8                                  24          21\n",
      "            9                                  48          44\n",
      "            10                                 66          60\n",
      "            11                                 39          25\n",
      "            12                                 83          37\n",
      "2020-2021   9                                   3           2\n",
      "            10                                 22          20\n",
      "            11                                 79          51\n",
      "            12                                 77          71\n",
      "            13                                  1           1\n",
      "2021-2022   7                                  25          19\n",
      "            8                                  49          45\n",
      "            9                                  33          22\n",
      "            10                                135         120\n",
      "            11                                 22          22\n",
      "            12                                 13          13\n",
      "             Student Assignment ID  Student ID\n",
      "School Year                                   \n",
      "2019-2020                      261         188\n",
      "2020-2021                      182         145\n",
      "2021-2022                      277         241\n"
     ]
    }
   ],
   "source": [
    "## count the unique number of student assignments and students (students has the same number of student assignments for benchmarks)\n",
    "## also count total writing lessons \n",
    "\n",
    "print(bchmrk.groupby(['School Year','Lesson Type','Enrolled Grade'])['Student Assignment ID'].nunique())\n",
    "print(bchmrk.groupby(['School Year','Lesson Type'])['Student Assignment ID'].nunique())\n",
    "print(bchmrk.groupby(['School Year'])['Student Assignment ID'].nunique())\n",
    "print(wrtlsn.groupby(['School Year','Enrolled Grade'])['Student Assignment ID', 'Student ID'].nunique())\n",
    "print(wrtlsn.groupby(['School Year'])['Student Assignment ID','Student ID'].nunique())\n"
   ]
  },
  {
   "cell_type": "code",
   "execution_count": 31,
   "id": "ee1d219d",
   "metadata": {},
   "outputs": [
    {
     "name": "stdout",
     "output_type": "stream",
     "text": [
      "School Year  Enrolled Grade\n",
      "2019-2020    7                 332.000000\n",
      "             8                 364.958333\n",
      "             9                 333.208333\n",
      "             10                223.621212\n",
      "             11                178.897436\n",
      "             12                193.000000\n",
      "2020-2021    9                  87.333333\n",
      "             10                121.863636\n",
      "             11                161.050633\n",
      "             12                248.363636\n",
      "             13                 56.000000\n",
      "2021-2022    7                 212.120000\n",
      "             8                 262.428571\n",
      "             9                 119.121212\n",
      "             10                149.770370\n",
      "             11                104.181818\n",
      "             12                113.538462\n",
      "Name: Word Count, dtype: float64\n",
      "School Year  Lesson Type                   Enrolled Grade\n",
      "2019-2020    Benchmark - Baseline Writing  7                 118.000000\n",
      "                                           8                  65.857143\n",
      "                                           9                  50.741935\n",
      "                                           10                 61.282609\n",
      "                                           11                 72.400000\n",
      "                                           12                 72.200000\n",
      "             Benchmark - End-of-Year       8                  78.000000\n",
      "                                           9                 160.857143\n",
      "                                           10                150.500000\n",
      "                                           11                133.600000\n",
      "                                           12                118.000000\n",
      "             Benchmark - Mid-Year          7                 105.000000\n",
      "                                           8                 130.400000\n",
      "                                           9                  99.884615\n",
      "                                           10                116.000000\n",
      "                                           11                144.333333\n",
      "                                           12                344.000000\n",
      "2020-2021    Benchmark - Baseline Writing  8                  56.000000\n",
      "                                           9                  47.939394\n",
      "                                           10                 89.000000\n",
      "                                           11                 58.166667\n",
      "                                           12                 29.833333\n",
      "             Benchmark - Mid-Year          11                 11.000000\n",
      "                                           12                 32.000000\n",
      "2021-2022    Benchmark - Baseline Writing  8                  84.000000\n",
      "                                           10                 19.888889\n",
      "                                           11                135.933333\n",
      "Name: Word Count, dtype: float64\n"
     ]
    }
   ],
   "source": [
    "# not removing outliers yet\n",
    "print(wrtlsn.groupby(['School Year','Enrolled Grade'])['Word Count'].mean())#.to_csv(os.path.join(path, 'Word Count Overview.csv'))\n",
    "print(bchmrk.groupby(['School Year','Lesson Type','Enrolled Grade'])['Word Count'].mean())"
   ]
  },
  {
   "cell_type": "code",
   "execution_count": 32,
   "id": "8f160d30",
   "metadata": {},
   "outputs": [],
   "source": [
    "# create two separate datasets for word count and scores respectively (for all school years), and without rubric categories \n",
    "\n",
    "# def drop_columns(df_original, groups, y):\n",
    "#     df = df_original.groupby(groups)[y].mean()\n",
    "#     df = pd.DataFrame(df)\n",
    "#     df = df.reset_index()\n",
    "#     return df\n",
    "\n",
    "# group1 = ['School Year','School Name','Class Name',\n",
    "#                 'Lesson Type', 'Class Subject', 'Teacher Name [Sensitive]',\n",
    "#                 'Student ID', 'Full Name', 'Enrolled Grade', 'Lesson ID', 'Student Assignment ID']\n",
    "\n",
    "# bchmrk_wc = drop_columns(bchmrk, group1, 'Word Count') # 1779 rows × 12 columns\n",
    "# wrtlsn_wc = drop_columns(wrtlsn, group1, 'Word Count')"
   ]
  },
  {
   "cell_type": "code",
   "execution_count": 34,
   "id": "f5f2aeea",
   "metadata": {},
   "outputs": [],
   "source": [
    "# remove outliers for word count based on year and lesson type\n",
    "\n",
    "def remove_outlier(df, column, group, y):\n",
    "    g = df[df[column]==group]\n",
    "    z = np.abs(stats.zscore(g[y]))\n",
    "    g['z'] = z\n",
    "    # threshold = 3\n",
    "    g = g[g['z']<3]\n",
    "    g.drop(['z'],axis=1,inplace=True)\n",
    "    return g\n",
    "\n",
    "bchmrk2122 = remove_outlier(bchmrk, 'School Year', '2019-2020', 'Word Count') # 213 rows × 13 columns"
   ]
  },
  {
   "cell_type": "code",
   "execution_count": 46,
   "id": "3c9a5d9a",
   "metadata": {},
   "outputs": [],
   "source": [
    "bchmrk2122.groupby(['Enrolled Grade', 'Lesson Type'])['Word Count'].mean()#.to_csv(os.path.join(path,'Word Count Overview.csv'))"
   ]
  },
  {
   "cell_type": "code",
   "execution_count": 49,
   "id": "5fb9cf66",
   "metadata": {},
   "outputs": [],
   "source": [
    "bchmrk2122['new lesson type'] = bchmrk2122['Lesson Type'].map({'Benchmark - Baseline Writing':'Benchmark - Baseline Writing',\n",
    "                               'Benchmark - Mid-Year':'Benchmark - End-of-Year',\n",
    "                               'Benchmark - End-of-Year': 'Benchmark - End-of-Year'})"
   ]
  },
  {
   "cell_type": "code",
   "execution_count": 52,
   "id": "7af3816e",
   "metadata": {},
   "outputs": [],
   "source": [
    "bchmrk2122.groupby(['Enrolled Grade','new lesson type'])['Word Count'].mean()#.to_csv(os.path.join(path,'Word Count Overview2.csv'))"
   ]
  },
  {
   "cell_type": "markdown",
   "id": "ff17dadf",
   "metadata": {},
   "source": [
    "## T-test "
   ]
  },
  {
   "cell_type": "code",
   "execution_count": 39,
   "id": "22585701",
   "metadata": {},
   "outputs": [
    {
     "name": "stdout",
     "output_type": "stream",
     "text": [
      "Lesson Type  Benchmark - Baseline Writing  Benchmark - Mid-Year\n",
      "count                           14.000000             14.000000\n",
      "mean                            86.321429            125.535714\n",
      "std                             71.730159             87.659846\n",
      "min                              8.000000             26.000000\n",
      "25%                             37.000000             67.750000\n",
      "50%                             54.500000             99.750000\n",
      "75%                            153.000000            163.750000\n",
      "max                            205.000000            301.000000\n",
      "Ttest_relResult(statistic=-2.3732166618010524, pvalue=0.03373271146551628)\n"
     ]
    }
   ],
   "source": [
    "# reshape the dataset so that BOY and MOY can be two columns side by side \n",
    "\n",
    "pivotgroup_bchmrk2122 = ['School Name', 'Full Name', 'Enrolled Grade', 'Lesson Type']\n",
    "\n",
    "bchmrk2122_p = drop_columns(bchmrk2122, pivotgroup_bchmrk2122, 'Word Count')\n",
    "\n",
    "bchmrk2122_p = bchmrk2122_p.pivot(index=['School Name', 'Full Name','Enrolled Grade'], columns='Lesson Type', values='Word Count')\n",
    "bchmrk2122_p = bchmrk2122_p.reset_index()\n",
    "\n",
    "bchmrk2122_p = bchmrk2122_p.dropna()\n",
    "\n",
    "print(bchmrk2122_p[['Benchmark - Baseline Writing','Benchmark - Mid-Year']].describe())\n",
    "print(ttest_rel(bchmrk2122_p['Benchmark - Baseline Writing'], bchmrk2122_p['Benchmark - Mid-Year']))\n",
    "\n",
    "# bchmrk2122_p: 14 rows\n",
    "## not enough data to suggest a difference"
   ]
  },
  {
   "cell_type": "markdown",
   "id": "b22ad1bd",
   "metadata": {},
   "source": [
    "## boxplots"
   ]
  },
  {
   "cell_type": "code",
   "execution_count": 43,
   "id": "25815cfa",
   "metadata": {},
   "outputs": [
    {
     "data": {
      "image/png": "[encoded data removed]",
      "text/plain": [
       "<Figure size 720x576 with 1 Axes>"
      ]
     },
     "metadata": {
      "needs_background": "light"
     },
     "output_type": "display_data"
    }
   ],
   "source": [
    "plt.figure(figsize = (10,8))\n",
    "ax = sns.boxplot(x=bchmrk2122['Lesson Type'],y=bchmrk2122['Word Count'])\n",
    "# ax.set_title('Grade %d' %n)\n",
    "# plt.savefig('/Users/spencersu/Desktop/JCPS Efficacy Report/Datasets/boxplot grade' + str(n) +'.png')\n",
    "plt.show()"
   ]
  },
  {
   "cell_type": "code",
   "execution_count": 45,
   "id": "b186c48e",
   "metadata": {},
   "outputs": [],
   "source": [
    "# bchmrk2122.to_csv(os.path.join(path, 'Cincy Benchmark Scores for Graphs.csv'))"
   ]
  },
  {
   "cell_type": "code",
   "execution_count": 54,
   "id": "d80d28fe",
   "metadata": {},
   "outputs": [],
   "source": [
    "# bchmrk2122.to_csv(os.path.join(path, 'Cincy Benchmark Scores for Graphs2.csv'))"
   ]
  },
  {
   "cell_type": "code",
   "execution_count": 55,
   "id": "573d273b",
   "metadata": {},
   "outputs": [
    {
     "data": {
      "text/plain": [
       "new lesson type\n",
       "Benchmark - Baseline Writing     61.123810\n",
       "Benchmark - End-of-Year         111.787037\n",
       "Name: Word Count, dtype: float64"
      ]
     },
     "execution_count": 55,
     "metadata": {},
     "output_type": "execute_result"
    }
   ],
   "source": [
    "bchmrk2122.groupby('new lesson type')['Word Count'].mean()"
   ]
  }
 ],
 "metadata": {
  "kernelspec": {
   "display_name": "Python 3",
   "language": "python",
   "name": "python3"
  },
  "language_info": {
   "codemirror_mode": {
    "name": "ipython",
    "version": 3
   },
   "file_extension": ".py",
   "mimetype": "text/x-python",
   "name": "python",
   "nbconvert_exporter": "python",
   "pygments_lexer": "ipython3",
   "version": "3.8.8"
  }
 },
 "nbformat": 4,
 "nbformat_minor": 5
}
