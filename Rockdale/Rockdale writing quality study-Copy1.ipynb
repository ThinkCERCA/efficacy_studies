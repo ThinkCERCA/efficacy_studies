{
 "cells": [
  {
   "cell_type": "code",
   "execution_count": 1,
   "id": "7ec3c40d",
   "metadata": {},
   "outputs": [],
   "source": [
    "# import packages\n",
    "import pandas as pd\n",
    "import os\n",
    "import glob\n",
    "import random\n",
    "import numpy as np\n",
    "import statistics\n",
    "import warnings\n",
    "warnings.filterwarnings('ignore')\n",
    "\n",
    "from scipy.stats import ttest_rel\n",
    "import matplotlib.pyplot as plt\n",
    "import seaborn as sns\n",
    "from matplotlib import rcParams\n",
    "import matplotlib.patches as mpatches\n",
    "\n",
    "import statsmodels.api as sm\n",
    "from sklearn.metrics import mean_squared_error\n",
    "from sklearn.metrics import accuracy_score\n",
    "from sklearn.model_selection import train_test_split\n",
    "from sklearn.pipeline import make_pipeline\n",
    "from sklearn.preprocessing import PolynomialFeatures\n",
    "from sklearn.linear_model import LassoCV\n",
    "from sklearn.ensemble import RandomForestRegressor\n",
    "from sklearn.metrics import r2_score\n",
    "import statsmodels.formula.api as smf\n",
    "from scipy import stats\n",
    "from scipy.stats import norm"
   ]
  },
  {
   "cell_type": "markdown",
   "id": "1d7a156f",
   "metadata": {},
   "source": [
    "## Data Prep"
   ]
  },
  {
   "cell_type": "code",
   "execution_count": 4,
   "id": "f4c71078",
   "metadata": {},
   "outputs": [],
   "source": [
    "path = r'/Users/spencersu/Desktop/Rockdale'\n",
    "\n",
    "# create a dataframe for word count\n",
    "wordcount = pd.read_csv(os.path.join(path, 'Rockdale word count 19-22.csv'))\n",
    "# remove column: the first column \"Unnamed: 0\"\n",
    "wordcount = wordcount.iloc[:,1:17]\n",
    "\n",
    "# wordcnt dataset now has 239253 rows × 16 columns\n",
    "# data retrieved on Jan 20, 2022"
   ]
  },
  {
   "cell_type": "code",
   "execution_count": 5,
   "id": "f72f1450",
   "metadata": {},
   "outputs": [
    {
     "data": {
      "text/html": [
       "<div>\n",
       "<style scoped>\n",
       "    .dataframe tbody tr th:only-of-type {\n",
       "        vertical-align: middle;\n",
       "    }\n",
       "\n",
       "    .dataframe tbody tr th {\n",
       "        vertical-align: top;\n",
       "    }\n",
       "\n",
       "    .dataframe thead th {\n",
       "        text-align: right;\n",
       "    }\n",
       "</style>\n",
       "<table border=\"1\" class=\"dataframe\">\n",
       "  <thead>\n",
       "    <tr style=\"text-align: right;\">\n",
       "      <th></th>\n",
       "      <th>Submission Date Date</th>\n",
       "      <th>School Year</th>\n",
       "      <th>School Name</th>\n",
       "      <th>Class Name</th>\n",
       "      <th>Class Subject</th>\n",
       "      <th>Teacher Name [Sensitive]</th>\n",
       "      <th>Student ID</th>\n",
       "      <th>Full Name</th>\n",
       "      <th>Enrolled Grade</th>\n",
       "      <th>Lesson ID</th>\n",
       "      <th>Writing Lesson Category</th>\n",
       "      <th>Student Assignment ID</th>\n",
       "      <th>Word Count</th>\n",
       "      <th>Writing Score</th>\n",
       "      <th>Rubric Category</th>\n",
       "      <th>Rubric Category Score</th>\n",
       "    </tr>\n",
       "  </thead>\n",
       "  <tbody>\n",
       "    <tr>\n",
       "      <th>0</th>\n",
       "      <td>2022-01-17</td>\n",
       "      <td>2021-2022</td>\n",
       "      <td>G L Edwards Middle School</td>\n",
       "      <td>Excel Language Arts 7-23.0120017-711-Larkin, V...</td>\n",
       "      <td>Unknown</td>\n",
       "      <td>Velma Larkin</td>\n",
       "      <td>1151684</td>\n",
       "      <td>Phoenix Johnson</td>\n",
       "      <td>7</td>\n",
       "      <td>26533</td>\n",
       "      <td>Narrative</td>\n",
       "      <td>16211871</td>\n",
       "      <td>24</td>\n",
       "      <td>40</td>\n",
       "      <td>Audience Appropriate Language (Style &amp; Word Ch...</td>\n",
       "      <td>2.0</td>\n",
       "    </tr>\n",
       "    <tr>\n",
       "      <th>1</th>\n",
       "      <td>2022-01-17</td>\n",
       "      <td>2021-2022</td>\n",
       "      <td>G L Edwards Middle School</td>\n",
       "      <td>Excel Language Arts 7-23.0120017-711-Larkin, V...</td>\n",
       "      <td>Unknown</td>\n",
       "      <td>Velma Larkin</td>\n",
       "      <td>1151684</td>\n",
       "      <td>Phoenix Johnson</td>\n",
       "      <td>7</td>\n",
       "      <td>26533</td>\n",
       "      <td>Narrative</td>\n",
       "      <td>16211871</td>\n",
       "      <td>24</td>\n",
       "      <td>40</td>\n",
       "      <td>Conventions Of English</td>\n",
       "      <td>2.0</td>\n",
       "    </tr>\n",
       "    <tr>\n",
       "      <th>2</th>\n",
       "      <td>2022-01-17</td>\n",
       "      <td>2021-2022</td>\n",
       "      <td>G L Edwards Middle School</td>\n",
       "      <td>Excel Language Arts 7-23.0120017-711-Larkin, V...</td>\n",
       "      <td>Unknown</td>\n",
       "      <td>Velma Larkin</td>\n",
       "      <td>1151684</td>\n",
       "      <td>Phoenix Johnson</td>\n",
       "      <td>7</td>\n",
       "      <td>26533</td>\n",
       "      <td>Narrative</td>\n",
       "      <td>16211871</td>\n",
       "      <td>24</td>\n",
       "      <td>40</td>\n",
       "      <td>Establishing Setting, Point Of View And Charac...</td>\n",
       "      <td>2.0</td>\n",
       "    </tr>\n",
       "    <tr>\n",
       "      <th>3</th>\n",
       "      <td>2022-01-17</td>\n",
       "      <td>2021-2022</td>\n",
       "      <td>G L Edwards Middle School</td>\n",
       "      <td>Excel Language Arts 7-23.0120017-711-Larkin, V...</td>\n",
       "      <td>Unknown</td>\n",
       "      <td>Velma Larkin</td>\n",
       "      <td>1151684</td>\n",
       "      <td>Phoenix Johnson</td>\n",
       "      <td>7</td>\n",
       "      <td>26533</td>\n",
       "      <td>Narrative</td>\n",
       "      <td>16211871</td>\n",
       "      <td>24</td>\n",
       "      <td>40</td>\n",
       "      <td>Narrative Techniques</td>\n",
       "      <td>2.0</td>\n",
       "    </tr>\n",
       "    <tr>\n",
       "      <th>4</th>\n",
       "      <td>2022-01-17</td>\n",
       "      <td>2021-2022</td>\n",
       "      <td>G L Edwards Middle School</td>\n",
       "      <td>Excel Language Arts 7-23.0120017-711-Larkin, V...</td>\n",
       "      <td>Unknown</td>\n",
       "      <td>Velma Larkin</td>\n",
       "      <td>1151684</td>\n",
       "      <td>Phoenix Johnson</td>\n",
       "      <td>7</td>\n",
       "      <td>26533</td>\n",
       "      <td>Narrative</td>\n",
       "      <td>16211871</td>\n",
       "      <td>24</td>\n",
       "      <td>40</td>\n",
       "      <td>Organization</td>\n",
       "      <td>2.0</td>\n",
       "    </tr>\n",
       "    <tr>\n",
       "      <th>...</th>\n",
       "      <td>...</td>\n",
       "      <td>...</td>\n",
       "      <td>...</td>\n",
       "      <td>...</td>\n",
       "      <td>...</td>\n",
       "      <td>...</td>\n",
       "      <td>...</td>\n",
       "      <td>...</td>\n",
       "      <td>...</td>\n",
       "      <td>...</td>\n",
       "      <td>...</td>\n",
       "      <td>...</td>\n",
       "      <td>...</td>\n",
       "      <td>...</td>\n",
       "      <td>...</td>\n",
       "      <td>...</td>\n",
       "    </tr>\n",
       "    <tr>\n",
       "      <th>239248</th>\n",
       "      <td>2019-08-16</td>\n",
       "      <td>2019-2020</td>\n",
       "      <td>Conyers Middle School</td>\n",
       "      <td>Excel Language Arts 7 - 23.0120017 - Woody, Ke...</td>\n",
       "      <td>Unknown</td>\n",
       "      <td>NaN</td>\n",
       "      <td>721752</td>\n",
       "      <td>Sinai Lugo</td>\n",
       "      <td>8</td>\n",
       "      <td>23345</td>\n",
       "      <td>Narrative</td>\n",
       "      <td>12022015</td>\n",
       "      <td>56</td>\n",
       "      <td>32</td>\n",
       "      <td>Conclusion</td>\n",
       "      <td>1.0</td>\n",
       "    </tr>\n",
       "    <tr>\n",
       "      <th>239249</th>\n",
       "      <td>2019-08-16</td>\n",
       "      <td>2019-2020</td>\n",
       "      <td>Conyers Middle School</td>\n",
       "      <td>Excel Language Arts 7 - 23.0120017 - Woody, Ke...</td>\n",
       "      <td>Unknown</td>\n",
       "      <td>NaN</td>\n",
       "      <td>721752</td>\n",
       "      <td>Sinai Lugo</td>\n",
       "      <td>8</td>\n",
       "      <td>23345</td>\n",
       "      <td>Narrative</td>\n",
       "      <td>12022015</td>\n",
       "      <td>56</td>\n",
       "      <td>32</td>\n",
       "      <td>Conventions of English</td>\n",
       "      <td>1.0</td>\n",
       "    </tr>\n",
       "    <tr>\n",
       "      <th>239250</th>\n",
       "      <td>2019-08-16</td>\n",
       "      <td>2019-2020</td>\n",
       "      <td>Conyers Middle School</td>\n",
       "      <td>Excel Language Arts 7 - 23.0120017 - Woody, Ke...</td>\n",
       "      <td>Unknown</td>\n",
       "      <td>NaN</td>\n",
       "      <td>721752</td>\n",
       "      <td>Sinai Lugo</td>\n",
       "      <td>8</td>\n",
       "      <td>23345</td>\n",
       "      <td>Narrative</td>\n",
       "      <td>12022015</td>\n",
       "      <td>56</td>\n",
       "      <td>32</td>\n",
       "      <td>Establishing Setting, Voices, and Characters</td>\n",
       "      <td>3.0</td>\n",
       "    </tr>\n",
       "    <tr>\n",
       "      <th>239251</th>\n",
       "      <td>2019-08-16</td>\n",
       "      <td>2019-2020</td>\n",
       "      <td>Conyers Middle School</td>\n",
       "      <td>Excel Language Arts 7 - 23.0120017 - Woody, Ke...</td>\n",
       "      <td>Unknown</td>\n",
       "      <td>NaN</td>\n",
       "      <td>721752</td>\n",
       "      <td>Sinai Lugo</td>\n",
       "      <td>8</td>\n",
       "      <td>23345</td>\n",
       "      <td>Narrative</td>\n",
       "      <td>12022015</td>\n",
       "      <td>56</td>\n",
       "      <td>32</td>\n",
       "      <td>Narrative Techniques</td>\n",
       "      <td>1.0</td>\n",
       "    </tr>\n",
       "    <tr>\n",
       "      <th>239252</th>\n",
       "      <td>2019-08-16</td>\n",
       "      <td>2019-2020</td>\n",
       "      <td>Conyers Middle School</td>\n",
       "      <td>Excel Language Arts 7 - 23.0120017 - Woody, Ke...</td>\n",
       "      <td>Unknown</td>\n",
       "      <td>NaN</td>\n",
       "      <td>721752</td>\n",
       "      <td>Sinai Lugo</td>\n",
       "      <td>8</td>\n",
       "      <td>23345</td>\n",
       "      <td>Narrative</td>\n",
       "      <td>12022015</td>\n",
       "      <td>56</td>\n",
       "      <td>32</td>\n",
       "      <td>Organization of the narrative</td>\n",
       "      <td>1.0</td>\n",
       "    </tr>\n",
       "  </tbody>\n",
       "</table>\n",
       "<p>239253 rows × 16 columns</p>\n",
       "</div>"
      ],
      "text/plain": [
       "       Submission Date Date School Year                School Name  \\\n",
       "0                2022-01-17   2021-2022  G L Edwards Middle School   \n",
       "1                2022-01-17   2021-2022  G L Edwards Middle School   \n",
       "2                2022-01-17   2021-2022  G L Edwards Middle School   \n",
       "3                2022-01-17   2021-2022  G L Edwards Middle School   \n",
       "4                2022-01-17   2021-2022  G L Edwards Middle School   \n",
       "...                     ...         ...                        ...   \n",
       "239248           2019-08-16   2019-2020      Conyers Middle School   \n",
       "239249           2019-08-16   2019-2020      Conyers Middle School   \n",
       "239250           2019-08-16   2019-2020      Conyers Middle School   \n",
       "239251           2019-08-16   2019-2020      Conyers Middle School   \n",
       "239252           2019-08-16   2019-2020      Conyers Middle School   \n",
       "\n",
       "                                               Class Name Class Subject  \\\n",
       "0       Excel Language Arts 7-23.0120017-711-Larkin, V...       Unknown   \n",
       "1       Excel Language Arts 7-23.0120017-711-Larkin, V...       Unknown   \n",
       "2       Excel Language Arts 7-23.0120017-711-Larkin, V...       Unknown   \n",
       "3       Excel Language Arts 7-23.0120017-711-Larkin, V...       Unknown   \n",
       "4       Excel Language Arts 7-23.0120017-711-Larkin, V...       Unknown   \n",
       "...                                                   ...           ...   \n",
       "239248  Excel Language Arts 7 - 23.0120017 - Woody, Ke...       Unknown   \n",
       "239249  Excel Language Arts 7 - 23.0120017 - Woody, Ke...       Unknown   \n",
       "239250  Excel Language Arts 7 - 23.0120017 - Woody, Ke...       Unknown   \n",
       "239251  Excel Language Arts 7 - 23.0120017 - Woody, Ke...       Unknown   \n",
       "239252  Excel Language Arts 7 - 23.0120017 - Woody, Ke...       Unknown   \n",
       "\n",
       "       Teacher Name [Sensitive]  Student ID        Full Name  Enrolled Grade  \\\n",
       "0                  Velma Larkin     1151684  Phoenix Johnson               7   \n",
       "1                  Velma Larkin     1151684  Phoenix Johnson               7   \n",
       "2                  Velma Larkin     1151684  Phoenix Johnson               7   \n",
       "3                  Velma Larkin     1151684  Phoenix Johnson               7   \n",
       "4                  Velma Larkin     1151684  Phoenix Johnson               7   \n",
       "...                         ...         ...              ...             ...   \n",
       "239248                      NaN      721752       Sinai Lugo               8   \n",
       "239249                      NaN      721752       Sinai Lugo               8   \n",
       "239250                      NaN      721752       Sinai Lugo               8   \n",
       "239251                      NaN      721752       Sinai Lugo               8   \n",
       "239252                      NaN      721752       Sinai Lugo               8   \n",
       "\n",
       "        Lesson ID Writing Lesson Category  Student Assignment ID Word Count  \\\n",
       "0           26533               Narrative               16211871         24   \n",
       "1           26533               Narrative               16211871         24   \n",
       "2           26533               Narrative               16211871         24   \n",
       "3           26533               Narrative               16211871         24   \n",
       "4           26533               Narrative               16211871         24   \n",
       "...           ...                     ...                    ...        ...   \n",
       "239248      23345               Narrative               12022015         56   \n",
       "239249      23345               Narrative               12022015         56   \n",
       "239250      23345               Narrative               12022015         56   \n",
       "239251      23345               Narrative               12022015         56   \n",
       "239252      23345               Narrative               12022015         56   \n",
       "\n",
       "        Writing Score                                    Rubric Category  \\\n",
       "0                  40  Audience Appropriate Language (Style & Word Ch...   \n",
       "1                  40                             Conventions Of English   \n",
       "2                  40  Establishing Setting, Point Of View And Charac...   \n",
       "3                  40                               Narrative Techniques   \n",
       "4                  40                                       Organization   \n",
       "...               ...                                                ...   \n",
       "239248             32                                         Conclusion   \n",
       "239249             32                             Conventions of English   \n",
       "239250             32       Establishing Setting, Voices, and Characters   \n",
       "239251             32                               Narrative Techniques   \n",
       "239252             32                      Organization of the narrative   \n",
       "\n",
       "        Rubric Category Score  \n",
       "0                         2.0  \n",
       "1                         2.0  \n",
       "2                         2.0  \n",
       "3                         2.0  \n",
       "4                         2.0  \n",
       "...                       ...  \n",
       "239248                    1.0  \n",
       "239249                    1.0  \n",
       "239250                    3.0  \n",
       "239251                    1.0  \n",
       "239252                    1.0  \n",
       "\n",
       "[239253 rows x 16 columns]"
      ]
     },
     "execution_count": 5,
     "metadata": {},
     "output_type": "execute_result"
    }
   ],
   "source": [
    "wordcount"
   ]
  },
  {
   "cell_type": "code",
   "execution_count": null,
   "id": "06c4df34",
   "metadata": {},
   "outputs": [],
   "source": [
    "## change data type into integer: 'Word Count' column\n",
    "\n",
    "# drop nan for Word Count column\n",
    "wordcnt2 = wordcnt.dropna(subset=['Word Count'])\n",
    "\n",
    "# now 'wordcnt' has 229509 rows × 16 columns\n",
    "\n",
    "# replace ',' with ''\n",
    "wordcnt2['Word Count'].replace(',','',regex=True,inplace=True)\n",
    "\n",
    "# convert data type of word count column into integer\n",
    "wordcnt2['Word Count'] = wordcnt2['Word Count'].astype(int)"
   ]
  },
  {
   "cell_type": "code",
   "execution_count": null,
   "id": "c50f58d4",
   "metadata": {},
   "outputs": [],
   "source": [
    "wordcnt2"
   ]
  },
  {
   "cell_type": "code",
   "execution_count": null,
   "id": "b41ca206",
   "metadata": {},
   "outputs": [],
   "source": [
    "# wordcnt2.groupby(['Enrolled Grade','School Year'])['Word Count'].nunique()"
   ]
  },
  {
   "cell_type": "code",
   "execution_count": null,
   "id": "cc11bcfe",
   "metadata": {},
   "outputs": [],
   "source": [
    "# wordcnt_new"
   ]
  },
  {
   "cell_type": "code",
   "execution_count": null,
   "id": "b77565b4",
   "metadata": {},
   "outputs": [],
   "source": [
    "wcoverview = wordcnt_new.groupby(['Enrolled Grade','School Year'])['Word Count'].mean()\n",
    "wcoverview\n",
    "# wcoverview.to_csv(os.path.join(path,'word count overview by grades.csv'))"
   ]
  },
  {
   "cell_type": "code",
   "execution_count": null,
   "id": "17d3a669",
   "metadata": {},
   "outputs": [],
   "source": []
  },
  {
   "cell_type": "code",
   "execution_count": null,
   "id": "2b923a3c",
   "metadata": {},
   "outputs": [],
   "source": [
    "# group by school year, grade level and student name, then take average for all the word count\n",
    "# group by student assignment ID to remove the duplicates created by rubric category scores\n",
    "\n",
    "avgcnt = wordcnt2.groupby(['School Year','School Name','Full Name','Enrolled Grade','Student Assignment ID'])['Word Count'].mean()\n",
    "# change list into dataframe\n",
    "avgcnt = pd.DataFrame(avgcnt)\n",
    "avgcnt = avgcnt.reset_index()"
   ]
  },
  {
   "cell_type": "code",
   "execution_count": null,
   "id": "3e4d1814",
   "metadata": {},
   "outputs": [],
   "source": [
    "# 15044 rows × 5 columns\n",
    "avgcnt"
   ]
  },
  {
   "cell_type": "code",
   "execution_count": null,
   "id": "f59f0fc8",
   "metadata": {},
   "outputs": [],
   "source": [
    "# count unique names\n",
    "###### arrange, no need to groupby twice \n",
    "avgcnt.groupby('School Year')['Student Assignment ID','Full Name'].nunique()"
   ]
  },
  {
   "cell_type": "code",
   "execution_count": null,
   "id": "231189bf",
   "metadata": {},
   "outputs": [],
   "source": [
    "avgcnt.groupby(['School Year','Enrolled Grade'])['Student Assignment ID','Full Name'].nunique()"
   ]
  },
  {
   "cell_type": "code",
   "execution_count": null,
   "id": "132a2fa0",
   "metadata": {},
   "outputs": [],
   "source": [
    "# group by and remove assignment ID\n",
    "avgcnt = avgcnt.groupby(['School Year','School Name','Full Name','Enrolled Grade'])['Word Count'].mean()\n",
    "avgcnt = pd.DataFrame(avgcnt)\n",
    "avgcnt = avgcnt.reset_index()\n",
    "avgcnt"
   ]
  },
  {
   "cell_type": "code",
   "execution_count": null,
   "id": "af7ba247",
   "metadata": {},
   "outputs": [],
   "source": [
    "## Remove outliers\n",
    "z = np.abs(stats.zscore(avgcnt['Word Count']))\n",
    "print(z)\n",
    "# threshold = 3\n",
    "print(np.where(z > 3))\n",
    "avgcnt_z = avgcnt\n",
    "avgcnt_z['z'] = z\n",
    "\n",
    "# remove outliers in wordcnt2"
   ]
  },
  {
   "cell_type": "code",
   "execution_count": null,
   "id": "0f2a0d04",
   "metadata": {},
   "outputs": [],
   "source": [
    "avgcnt_z"
   ]
  },
  {
   "cell_type": "code",
   "execution_count": null,
   "id": "f5a5dc0d",
   "metadata": {},
   "outputs": [],
   "source": [
    "avgcnt_z = avgcnt_z[avgcnt_z['z']<3]\n",
    "\n",
    "# later lsn assignment do they have this step? "
   ]
  },
  {
   "cell_type": "code",
   "execution_count": null,
   "id": "7980222e",
   "metadata": {},
   "outputs": [],
   "source": [
    "# choose 'enrolled grade' level 3 \n",
    "avgcnt3 = avgcnt_z[avgcnt_z['Enrolled Grade']==3]\n",
    "\n",
    "# 978 students from grade 3 \n",
    "\n",
    "# drop column: enrolled grade\n",
    "avgcnt3.drop('Enrolled Grade',axis=1,inplace=True)\n",
    "\n",
    "# remove outlier"
   ]
  },
  {
   "cell_type": "code",
   "execution_count": null,
   "id": "c2ee03cb",
   "metadata": {},
   "outputs": [],
   "source": [
    "avgcnt3"
   ]
  },
  {
   "cell_type": "code",
   "execution_count": null,
   "id": "83d8a76d",
   "metadata": {},
   "outputs": [],
   "source": [
    "# boxplot: word count vs. school year \n",
    "plt.figure(figsize = (10,8))\n",
    "sns.boxplot(x=avgcnt3['School Year'],y=avgcnt3['Word Count'])\n",
    "plt.title('Grade 3')\n",
    "plt.savefig(os.path.join(path,'boxplot grade3.png'))\n",
    "plt.show()"
   ]
  },
  {
   "cell_type": "code",
   "execution_count": null,
   "id": "5905bc62",
   "metadata": {},
   "outputs": [],
   "source": [
    "## Grade 4 \n",
    "# choose 'enrolled grade' level 4 \n",
    "avgcnt4 = avgcnt_z[avgcnt_z['Enrolled Grade']==4]\n",
    "\n",
    "# 1885 students from grade 4  \n",
    "\n",
    "# drop column: enrolled grade\n",
    "avgcnt4.drop('Enrolled Grade',axis=1,inplace=True)\n",
    "\n",
    "# boxplot: word count vs. school year \n",
    "plt.figure(figsize = (10,8))\n",
    "sns.boxplot(x=avgcnt4['School Year'],y=avgcnt4['Word Count'])\n",
    "plt.title('Grade 4')\n",
    "plt.savefig(os.path.join(path,'boxplot grade4.png'))\n",
    "plt.show()"
   ]
  },
  {
   "cell_type": "code",
   "execution_count": null,
   "id": "90e2ec69",
   "metadata": {},
   "outputs": [],
   "source": [
    "# for grade in range(3,9):\n",
    "    "
   ]
  },
  {
   "cell_type": "code",
   "execution_count": null,
   "id": "a212b868",
   "metadata": {},
   "outputs": [],
   "source": [
    "# finish for the other grades "
   ]
  },
  {
   "cell_type": "code",
   "execution_count": null,
   "id": "1202b714",
   "metadata": {},
   "outputs": [],
   "source": [
    "## Grade 5\n",
    "# choose 'enrolled grade' level 5\n",
    "avgcnt5 = avgcnt_z[avgcnt_z['Enrolled Grade']==5]\n",
    "\n",
    "# ---- students from grade 4  \n",
    "\n",
    "# drop column: enrolled grade\n",
    "avgcnt5.drop('Enrolled Grade',axis=1,inplace=True)\n",
    "\n",
    "# boxplot: word count vs. school year \n",
    "plt.figure(figsize = (10,8))\n",
    "sns.boxplot(x=avgcnt5['School Year'],y=avgcnt5['Word Count'])\n",
    "plt.title('Grade 5')\n",
    "plt.savefig(os.path.join(path,'boxplot grade5.png'))\n",
    "plt.show()"
   ]
  },
  {
   "cell_type": "code",
   "execution_count": null,
   "id": "6be8cbd8",
   "metadata": {},
   "outputs": [],
   "source": [
    "## Grade 6\n",
    "# choose 'enrolled grade' level 6\n",
    "avgcnt6 = avgcnt_z[avgcnt_z['Enrolled Grade']==6]\n",
    "\n",
    "# ---- students from grade 6\n",
    "\n",
    "# drop column: enrolled grade\n",
    "avgcnt6.drop('Enrolled Grade',axis=1,inplace=True)\n",
    "\n",
    "# boxplot: word count vs. school year \n",
    "plt.figure(figsize = (10,8))\n",
    "sns.boxplot(x=avgcnt6['School Year'],y=avgcnt6['Word Count'])\n",
    "plt.title('Grade 6')\n",
    "plt.savefig(os.path.join(path,'boxplot grade6.png'))\n",
    "plt.show()"
   ]
  },
  {
   "cell_type": "code",
   "execution_count": null,
   "id": "afc1b6ba",
   "metadata": {},
   "outputs": [],
   "source": [
    "## Grade 7\n",
    "# choose 'enrolled grade' level 7\n",
    "avgcnt7 = avgcnt_z[avgcnt_z['Enrolled Grade']==7]\n",
    "\n",
    "# ---- students from grade 7\n",
    "\n",
    "# drop column: enrolled grade\n",
    "avgcnt7.drop('Enrolled Grade',axis=1,inplace=True)\n",
    "\n",
    "# boxplot: word count vs. school year \n",
    "plt.figure(figsize = (10,8))\n",
    "sns.boxplot(x=avgcnt7['School Year'],y=avgcnt7['Word Count'])\n",
    "plt.title('Grade 7')\n",
    "plt.savefig(os.path.join(path,'boxplot grade7.png'))\n",
    "plt.show()"
   ]
  },
  {
   "cell_type": "code",
   "execution_count": null,
   "id": "0662f2c9",
   "metadata": {},
   "outputs": [],
   "source": [
    "## Grade 8\n",
    "# choose 'enrolled grade' level 8\n",
    "avgcnt8 = avgcnt_z[avgcnt_z['Enrolled Grade']==8]\n",
    "\n",
    "# ---- students from grade 8\n",
    "\n",
    "# drop column: enrolled grade\n",
    "avgcnt8.drop('Enrolled Grade',axis=1,inplace=True)\n",
    "\n",
    "# boxplot: word count vs. school year \n",
    "plt.figure(figsize = (10,8))\n",
    "sns.boxplot(x=avgcnt8['School Year'],y=avgcnt8['Word Count'])\n",
    "plt.title('Grade 8')\n",
    "plt.savefig(os.path.join(path,'boxplot grade8.png'))\n",
    "plt.show()"
   ]
  },
  {
   "cell_type": "code",
   "execution_count": null,
   "id": "c3314820",
   "metadata": {},
   "outputs": [],
   "source": [
    "# overall\n",
    "# drop column: enrolled grade\n",
    "avgcnt_z.drop('Enrolled Grade',axis=1,inplace=True)\n",
    "\n",
    "# boxplot: word count vs. school year \n",
    "plt.figure(figsize = (10,8))\n",
    "sns.boxplot(x=avgcnt_z['School Year'],y=avgcnt_z['Word Count'])\n",
    "plt.title('Overall')\n",
    "# plt.savefig(os.path.join(path,'boxplot grade8.png'))\n",
    "plt.show()"
   ]
  },
  {
   "cell_type": "code",
   "execution_count": null,
   "id": "a607cbd0",
   "metadata": {},
   "outputs": [],
   "source": [
    "# avgcnt_z.to_csv(os.path.join(path, 'Avg Word Count (Outlier Removed).csv'))"
   ]
  },
  {
   "cell_type": "code",
   "execution_count": null,
   "id": "9179b66c",
   "metadata": {},
   "outputs": [],
   "source": [
    "# z = np.abs(stats.zscore(wordcnt_new['Word Count']))\n",
    "# print(z)\n",
    "# # threshold = 3\n",
    "# print(np.where(z > 3))\n",
    "# wordcnt_z = wordcnt_new\n",
    "# wordcnt_z['z'] = z\n",
    "# wordcnt_z = wordcnt_z[wordcnt_z['z']<3]"
   ]
  },
  {
   "cell_type": "code",
   "execution_count": null,
   "id": "d80fd81a",
   "metadata": {},
   "outputs": [],
   "source": [
    "# wordcnt_z.to_csv(os.path.join(path, 'Avg Word Count (Outlier Removed).csv'))"
   ]
  },
  {
   "cell_type": "code",
   "execution_count": null,
   "id": "212b3cfc",
   "metadata": {},
   "outputs": [],
   "source": [
    "# wordcnt_z.groupby('School Year').count()"
   ]
  },
  {
   "cell_type": "markdown",
   "id": "6d9ca8bf",
   "metadata": {},
   "source": [
    "## arrange"
   ]
  },
  {
   "cell_type": "code",
   "execution_count": null,
   "id": "1c19ea66",
   "metadata": {},
   "outputs": [],
   "source": [
    "# drop column enrolled grade\n",
    "avgcnt_new = avgcnt.groupby(['School Year','School Name','Full Name'])['Word Count'].mean()\n",
    "# change list into dataframe\n",
    "avgcnt_new = pd.DataFrame(avgcnt_new)\n",
    "avgcnt_new = avgcnt_new.reset_index()\n",
    "\n",
    "# reshape, pivot\n",
    "pvt_avgcnt = avgcnt_new.pivot(index=['School Name','Full Name'], columns='School Year', values='Word Count')"
   ]
  },
  {
   "cell_type": "code",
   "execution_count": null,
   "id": "22d50c5b",
   "metadata": {},
   "outputs": [],
   "source": [
    "# drop all rows that include nan \n",
    "pvt_avgcnt = pvt_avgcnt.dropna()"
   ]
  },
  {
   "cell_type": "code",
   "execution_count": null,
   "id": "c033cf63",
   "metadata": {},
   "outputs": [],
   "source": [
    "pvt_avgcnt.reset_index()"
   ]
  },
  {
   "cell_type": "code",
   "execution_count": null,
   "id": "68417312",
   "metadata": {},
   "outputs": [],
   "source": [
    "# remove the outliers \n",
    "avgcnt_new.drop(avgcnt_new[avgcnt_new['Word Count'] >1600].index, inplace=True)\n",
    "\n",
    "# boxplot: word count vs. school year \n",
    "plt.figure(figsize = (10,8))\n",
    "sns.boxplot(x=avgcnt_new['School Year'],y=avgcnt_new['Word Count'])\n",
    "plt.show()"
   ]
  },
  {
   "cell_type": "markdown",
   "id": "4cbe4b51",
   "metadata": {},
   "source": [
    "## arrange "
   ]
  },
  {
   "cell_type": "code",
   "execution_count": null,
   "id": "62da1af0",
   "metadata": {},
   "outputs": [],
   "source": [
    "# t-test analysis \n",
    "##### add print!\n",
    "ttest_rel(pvt_avgcnt['2019-2020'], pvt_avgcnt['2020-2021'])\n",
    "\n",
    "# t value is negative, 2020-2021 has improvement compared to 2019-2020"
   ]
  },
  {
   "cell_type": "code",
   "execution_count": null,
   "id": "e10215e9",
   "metadata": {},
   "outputs": [],
   "source": [
    "ttest_rel(pvt_avgcnt['2020-2021'], pvt_avgcnt['2021-2022'])"
   ]
  },
  {
   "cell_type": "code",
   "execution_count": null,
   "id": "dd3436d4",
   "metadata": {},
   "outputs": [],
   "source": [
    "ttest_rel(pvt_avgcnt['2019-2020'], pvt_avgcnt['2021-2022'])"
   ]
  },
  {
   "cell_type": "markdown",
   "id": "06faa127",
   "metadata": {},
   "source": [
    "## plots"
   ]
  },
  {
   "cell_type": "code",
   "execution_count": null,
   "id": "62bf5535",
   "metadata": {},
   "outputs": [],
   "source": [
    "# ## arrange to the top \n",
    "# # drop columns: writing scores, lesson category, class subject, class name, submission date, student ID \n",
    "# wordcnt_new = wordcnt.drop(['Submission Date Date','Class Name','Class Subject',\n",
    "#               'Teacher Name [Sensitive]','Student ID','Writing Lesson Category',\n",
    "#               'Writing Score','Rubric Category','Rubric Category Score'],\n",
    "#              axis=1, inplace=True)"
   ]
  },
  {
   "cell_type": "code",
   "execution_count": null,
   "id": "cc268eac",
   "metadata": {},
   "outputs": [],
   "source": [
    "# drop column enrolled grade\n",
    "###### make this a function!\n",
    "\n",
    "\n",
    "wordcnt_new = wordcnt2.groupby(['School Year','School Name','Full Name',\n",
    "                                'Enrolled Grade','Lesson ID','Student Assignment ID'])['Word Count'].mean()\n",
    "# change list into dataframe\n",
    "wordcnt_new = pd.DataFrame(wordcnt_new)\n",
    "wordcnt_new = wordcnt_new.reset_index()\n",
    "wordcnt_new"
   ]
  },
  {
   "cell_type": "code",
   "execution_count": null,
   "id": "4b0ebd6c",
   "metadata": {},
   "outputs": [],
   "source": [
    "wordcnt_new.groupby(['Enrolled Grade','School Year'])['Word Count'].mean()"
   ]
  },
  {
   "cell_type": "code",
   "execution_count": null,
   "id": "016260ec",
   "metadata": {},
   "outputs": [],
   "source": [
    "# arrange \n",
    "\n",
    "# create three data frames and merge into one \n",
    "a = wordcnt.groupby(['School Year','School Name','Full Name'])['Lesson ID'].count()\n",
    "b = wordcnt_new.groupby(['School Year','School Name','Full Name'])['Word Count'].mean()\n",
    "c = wordcnt_new.groupby(['School Year','School Name','Full Name'])['Student Assignment ID'].count()"
   ]
  },
  {
   "cell_type": "code",
   "execution_count": null,
   "id": "00204010",
   "metadata": {},
   "outputs": [],
   "source": [
    "#####  for loop\n",
    "num_asgmt_lsn = pd.merge(a,b,on=['School Year','School Name','Full Name'], how='inner')\n",
    "num_asgmt_lsn = pd.merge(num_asgmt_lsn,c,on=['School Year','School Name','Full Name'], how='inner')"
   ]
  },
  {
   "cell_type": "code",
   "execution_count": null,
   "id": "e68630be",
   "metadata": {},
   "outputs": [],
   "source": [
    "num_asgmt_lsn = num_asgmt_lsn.reset_index()"
   ]
  },
  {
   "cell_type": "code",
   "execution_count": null,
   "id": "8968240f",
   "metadata": {},
   "outputs": [],
   "source": [
    "# test if the number of lessons is the same as the number of assignments \n",
    "num_asgmt_lsn['Lesson ID'].equals(num_asgmt_lsn['Student Assignment ID'])"
   ]
  },
  {
   "cell_type": "code",
   "execution_count": null,
   "id": "5fd84136",
   "metadata": {},
   "outputs": [],
   "source": [
    "# change column name to suggest num of lessons and assignments \n",
    "num_asgmt_lsn.rename(columns={num_asgmt_lsn.columns[2]: \"Student Name\", \n",
    "                              num_asgmt_lsn.columns[3]: 'Num of Lessons', \n",
    "                              num_asgmt_lsn.columns[5]: 'Num of Assignments Graded'}, inplace = True)"
   ]
  },
  {
   "cell_type": "code",
   "execution_count": null,
   "id": "d0319489",
   "metadata": {},
   "outputs": [],
   "source": [
    "num_asgmt_lsn"
   ]
  },
  {
   "cell_type": "code",
   "execution_count": null,
   "id": "66227547",
   "metadata": {},
   "outputs": [],
   "source": [
    "## Remove outliers\n",
    "z1 = np.abs(stats.zscore(num_asgmt_lsn['Word Count']))\n",
    "print(z1)\n",
    "# threshold = 3\n",
    "print(np.where(z1 > 3))\n",
    "num_asgmt_lsn['z'] = z1"
   ]
  },
  {
   "cell_type": "code",
   "execution_count": null,
   "id": "7c259827",
   "metadata": {},
   "outputs": [],
   "source": [
    "num_asgmt_lsn"
   ]
  },
  {
   "cell_type": "code",
   "execution_count": null,
   "id": "0c5c9301",
   "metadata": {},
   "outputs": [],
   "source": [
    "num_asgmt_lsn.drop(num_asgmt_lsn[num_asgmt_lsn['z'] >3].index, inplace=True)"
   ]
  },
  {
   "cell_type": "code",
   "execution_count": null,
   "id": "1cddf85f",
   "metadata": {},
   "outputs": [],
   "source": [
    "num_asgmt_lsn"
   ]
  },
  {
   "cell_type": "code",
   "execution_count": null,
   "id": "3bf1f7fb",
   "metadata": {},
   "outputs": [],
   "source": [
    "# scatterplot \n",
    "##### remove outlier! \n",
    "\n",
    "plt.figure(figsize = (10,8))\n",
    "sns.regplot(num_asgmt_lsn['Num of Lessons'],num_asgmt_lsn['Word Count'],\n",
    "            scatter_kws={\"color\": \"black\",'s':12}, truncate = False,\n",
    "            line_kws={\"color\": \"red\"}, ci=None)\n",
    "plt.xlabel('Number of Lessons')\n",
    "plt.ylabel('Word Count')\n",
    "plt.title(\"Number of Lessons vs. Word Count\", fontsize=15)\n",
    "plt.savefig(os.path.join(path,'Number of Lessons vs. Word Count.png'))\n",
    "plt.show()\n",
    "\n",
    "## add a correlation for word count vs. scores "
   ]
  },
  {
   "cell_type": "code",
   "execution_count": null,
   "id": "14bc6ed0",
   "metadata": {},
   "outputs": [],
   "source": [
    "sns.set_style(style='white')\n",
    "plt.figure(figsize = (10,8))\n",
    "sns.regplot(num_asgmt_lsn['Num of Assignments Graded'],num_asgmt_lsn['Word Count'],\n",
    "            scatter_kws={\"color\": \"#2f7fe2\",'s':8}, truncate = False, order=1,x_jitter=.1,marker='o',\n",
    "            line_kws={\"color\": \"#ff6800\"}, ci=None)\n",
    "plt.xlabel('Number of Assignments')\n",
    "plt.ylabel('Word Count')\n",
    "plt.title(\"Number of Assignments vs. Word Count\", fontsize=15)\n",
    "plt.savefig(os.path.join(path,'Number of Assignments vs. Word Count.png'))\n",
    "plt.show()"
   ]
  },
  {
   "cell_type": "code",
   "execution_count": null,
   "id": "74b39b5d",
   "metadata": {},
   "outputs": [],
   "source": [
    "sns.lmplot(x=\"Num of Assignments Graded\", y=\"Word Count\", data=num_asgmt_lsn, \n",
    "           order=2, ci=None, scatter_kws={\"s\": 80});"
   ]
  },
  {
   "cell_type": "code",
   "execution_count": null,
   "id": "9d66e5b5",
   "metadata": {},
   "outputs": [],
   "source": [
    "##### change size \n",
    "plt.style.use('bmh')\n",
    "plt.figure(figsize = (10,8))\n",
    "sns.lmplot(x='Num of Assignments Graded',y='Word Count', data=num_asgmt_lsn,\n",
    "           truncate = False, hue='School Year',ci=None)\n",
    "plt.xlabel('Number of Assignments Graded')\n",
    "plt.ylabel('Word Count')\n",
    "plt.title(\"Number of Assignments Graded vs. Word Count\", fontsize=15)\n",
    "plt.savefig(os.path.join(path,'Number of Assignments Graded vs. Word Count by Year.png'))\n",
    "plt.show()"
   ]
  },
  {
   "cell_type": "code",
   "execution_count": null,
   "id": "f0e8301a",
   "metadata": {},
   "outputs": [],
   "source": [
    "plt.figure(figsize = (10,8))\n",
    "sns.lmplot(x='Num of Lessons',y='Word Count', data=num_asgmt_lsn,\n",
    "           truncate = False, hue='School Year',ci=None)\n",
    "plt.xlabel('Number of Lessons')\n",
    "plt.ylabel('Word Count')\n",
    "plt.title(\"Number of Lessons vs. Word Count\", fontsize=15)\n",
    "plt.show()"
   ]
  },
  {
   "cell_type": "markdown",
   "id": "da0cb654",
   "metadata": {},
   "source": [
    "## Regression"
   ]
  },
  {
   "cell_type": "code",
   "execution_count": null,
   "id": "0b7aca13",
   "metadata": {},
   "outputs": [],
   "source": [
    "# add enrolled grade to the regression\n",
    "a2 = wordcnt.groupby(['School Year','School Name','Full Name','Enrolled Grade'])['Lesson ID'].count()\n",
    "b2 = wordcnt_new.groupby(['School Year','School Name','Full Name','Enrolled Grade'])['Word Count'].mean()\n",
    "c2 = wordcnt_new.groupby(['School Year','School Name','Full Name','Enrolled Grade'])['Student Assignment ID'].count()"
   ]
  },
  {
   "cell_type": "code",
   "execution_count": null,
   "id": "4ca649a4",
   "metadata": {},
   "outputs": [],
   "source": [
    "df_reg = pd.merge(a2,b2,on=['School Year','School Name','Full Name','Enrolled Grade'],how='outer')\n",
    "df_reg = pd.merge(df_reg, c2, on=['School Year','School Name','Full Name','Enrolled Grade'], how = 'outer')"
   ]
  },
  {
   "cell_type": "code",
   "execution_count": null,
   "id": "e19567be",
   "metadata": {},
   "outputs": [],
   "source": [
    "df_reg = df_reg.reset_index()"
   ]
  },
  {
   "cell_type": "code",
   "execution_count": null,
   "id": "9e595a0d",
   "metadata": {},
   "outputs": [],
   "source": [
    "df_reg.rename(columns={df_reg.columns[0]: 'school_year', \n",
    "                       df_reg.columns[1]: 'school_name',\n",
    "                       df_reg.columns[2]: 'student_name', \n",
    "                       df_reg.columns[3]: 'enrolled_grade',\n",
    "                       df_reg.columns[4]: 'num_lessons', \n",
    "                       df_reg.columns[5]: 'word_count',\n",
    "                       df_reg.columns[6]: 'num_asgmts'}, inplace = True)"
   ]
  },
  {
   "cell_type": "code",
   "execution_count": null,
   "id": "2db34f78",
   "metadata": {},
   "outputs": [],
   "source": [
    "df_reg.drop(df_reg[df_reg['word_count'] >1000].index, inplace=True)"
   ]
  },
  {
   "cell_type": "code",
   "execution_count": null,
   "id": "2ae7d5a0",
   "metadata": {},
   "outputs": [],
   "source": [
    "df_reg"
   ]
  },
  {
   "cell_type": "code",
   "execution_count": null,
   "id": "456d5ad1",
   "metadata": {},
   "outputs": [],
   "source": [
    "results = smf.ols('word_count ~ num_asgmts + C(enrolled_grade) + C(school_year) + C(school_name)', data=df_reg).fit()\n",
    "print(results.summary())\n",
    "\n",
    "# finishing one more assignments will get 19 more words \n",
    "\n",
    "###### remove outliers from the beginning"
   ]
  },
  {
   "cell_type": "code",
   "execution_count": null,
   "id": "c0a27bf2",
   "metadata": {},
   "outputs": [],
   "source": [
    "results2 = smf.ols('word_count ~ num_lessons + C(enrolled_grade) + C(school_year) + C(school_name)', data=df_reg).fit()\n",
    "print(results2.summary())"
   ]
  },
  {
   "cell_type": "code",
   "execution_count": null,
   "id": "c4f1cf0f",
   "metadata": {},
   "outputs": [],
   "source": []
  },
  {
   "cell_type": "code",
   "execution_count": null,
   "id": "07a28a2a",
   "metadata": {},
   "outputs": [],
   "source": [
    "# lasso for all variables (class, grade, year, school, etc.), see which has the most effect on word count "
   ]
  },
  {
   "cell_type": "code",
   "execution_count": null,
   "id": "0102b2f9",
   "metadata": {},
   "outputs": [],
   "source": [
    "# time series analysis: change the submission date into all first date of the month, then categorize three month\n",
    "# into one category, then conduct time series analysis to see if the there is any trend for the total data "
   ]
  },
  {
   "cell_type": "code",
   "execution_count": null,
   "id": "9ce47709",
   "metadata": {},
   "outputs": [],
   "source": [
    "df_reg = pd.get_dummies(df_reg, columns=['enrolled_grade','school_name','school_year'])"
   ]
  },
  {
   "cell_type": "code",
   "execution_count": null,
   "id": "5d46d6ad",
   "metadata": {},
   "outputs": [],
   "source": [
    "df_reg = df_reg.dropna()\n",
    "df_reg"
   ]
  },
  {
   "cell_type": "code",
   "execution_count": null,
   "id": "c5bd9e6a",
   "metadata": {},
   "outputs": [],
   "source": [
    "Y = df_reg['word_count']\n",
    "X = df_reg[df_reg.columns.drop(['word_count','student_name','num_lessons'])]\n",
    "model = sm.OLS(Y, X).fit()\n",
    "predictions = model.predict(X) \n",
    "\n",
    "print_model = model.summary()\n",
    "print(print_model)\n",
    "\n",
    "## 19-20 shows negative correlation between word count and num of assignments \n",
    "## if 20-21, smallest number of word count "
   ]
  },
  {
   "cell_type": "markdown",
   "id": "e83ae454",
   "metadata": {},
   "source": [
    "## Random Forest Regression"
   ]
  },
  {
   "cell_type": "code",
   "execution_count": null,
   "id": "c4ee6a09",
   "metadata": {},
   "outputs": [],
   "source": [
    "df_rf = wordcnt2.groupby(['School Year','School Name','Lesson ID','Teacher Name [Sensitive]',\n",
    "                          'Enrolled Grade','Writing Lesson Category',\n",
    "                          'Student Assignment ID'])['Word Count'].mean()\n",
    "df_rf = pd.DataFrame(df_rf)\n",
    "df_rf = df_rf.reset_index()\n",
    "df_rf\n",
    "\n",
    "# 17689 rows × 8 columns"
   ]
  },
  {
   "cell_type": "code",
   "execution_count": null,
   "id": "dc53ef9b",
   "metadata": {},
   "outputs": [],
   "source": [
    "df_rf = pd.get_dummies(df_rf)\n",
    "df_rf\n",
    "\n",
    "# 17689 rows × 225 columns"
   ]
  },
  {
   "cell_type": "code",
   "execution_count": null,
   "id": "c7f32aff",
   "metadata": {},
   "outputs": [],
   "source": [
    "Y_rf = df_rf['Word Count']\n",
    "X_rf = df_rf[df_rf.columns.drop(['Word Count'])]\n",
    "\n",
    "X_train, X_test, y_train, y_test = train_test_split(X_rf,Y_rf,test_size=0.2)\n",
    "\n",
    "model_rf = RandomForestRegressor(n_estimators=500, oob_score=True, random_state=100)\n",
    "model_rf.fit(X_train, y_train) \n",
    "pred_train_rf= model_rf.predict(X_train)\n",
    "print('Training RMSE:', np.sqrt(mean_squared_error(y_train,pred_train_rf)))\n",
    "print('Training R Squared:', r2_score(y_train, pred_train_rf))\n",
    "\n",
    "pred_test_rf = model_rf.predict(X_test)\n",
    "print('Testing RMSE:', np.sqrt(mean_squared_error(y_test,pred_test_rf)))\n",
    "print('Testing R Squared:',r2_score(y_test, pred_test_rf))\n",
    "\n",
    "# training set R Squared is good, but training set and testing set has a huge difference "
   ]
  },
  {
   "cell_type": "markdown",
   "id": "f43ba551",
   "metadata": {},
   "source": [
    "## Barplots"
   ]
  },
  {
   "cell_type": "code",
   "execution_count": null,
   "id": "c6893639",
   "metadata": {},
   "outputs": [],
   "source": [
    "plt.style.use('seaborn-bright')"
   ]
  },
  {
   "cell_type": "code",
   "execution_count": null,
   "id": "c255dfc7",
   "metadata": {},
   "outputs": [],
   "source": [
    "colors = [\"#FF6800\", \"#2F7FE2\", \"#42b029\"]\n",
    "customPalette = sns.set_palette(sns.color_palette(colors))"
   ]
  },
  {
   "cell_type": "code",
   "execution_count": null,
   "id": "ca6339dd",
   "metadata": {},
   "outputs": [],
   "source": [
    "# grade 3 line plot prep\n",
    "line3 = avgcnt3.groupby('School Year')['Word Count'].mean()\n",
    "line3 = pd.DataFrame(line3)\n",
    "line3 = line3.reset_index()\n",
    "line3"
   ]
  },
  {
   "cell_type": "code",
   "execution_count": null,
   "id": "d9ab0ec4",
   "metadata": {},
   "outputs": [],
   "source": [
    "avgcnt3['Word Count'].describe()"
   ]
  },
  {
   "cell_type": "code",
   "execution_count": null,
   "id": "294a3718",
   "metadata": {},
   "outputs": [],
   "source": [
    "# bar charts average value \n",
    "plt.figure(figsize = (10,6))\n",
    "plt.rcParams['savefig.dpi'] = 300\n",
    "plt.ylim(0,110)\n",
    "ax = sns.barplot(x=avgcnt3['School Year'],y=avgcnt3['Word Count'], ci=None, palette=customPalette)\n",
    "plt.title('Grade 3 Avg. Word Count 19-22')\n",
    "\n",
    "def change_width(ax, new_value) :\n",
    "    for patch in ax.patches :\n",
    "        current_width = patch.get_width()\n",
    "        diff = current_width - new_value\n",
    "\n",
    "        # we change the bar width\n",
    "        patch.set_width(new_value)\n",
    "\n",
    "        # we recenter the bar\n",
    "        patch.set_x(patch.get_x() + diff * .5)\n",
    "\n",
    "change_width(ax, .5)\n",
    "\n",
    "plt.savefig(os.path.join(path,'bar chart grade3.png'))\n",
    "\n",
    "plt.show()"
   ]
  },
  {
   "cell_type": "code",
   "execution_count": null,
   "id": "6513ebd6",
   "metadata": {},
   "outputs": [],
   "source": [
    "plt.figure(figsize = (10,6))\n",
    "plt.rcParams['savefig.dpi'] = 300\n",
    "plt.ylim(0,300)\n",
    "ax = sns.boxplot(x=avgcnt3['School Year'],y=avgcnt3['Word Count'], showfliers = False, palette=customPalette)\n",
    "# ax = sns.boxplot(x=avgcnt3['School Year'],kind='count',ci=None, palette=customPalette)\n",
    "# sns.lineplot(data=line3, marker='o', palette=['grey'])\n",
    "\n",
    "plt.title('Grade 3')\n",
    "\n",
    "change_width(ax, .5)\n",
    "\n",
    "plt.savefig(os.path.join(path,'bar chart grade3.png'))\n",
    "\n",
    "plt.show()"
   ]
  },
  {
   "cell_type": "code",
   "execution_count": null,
   "id": "77f01cc0",
   "metadata": {},
   "outputs": [],
   "source": [
    "avgcnt3"
   ]
  },
  {
   "cell_type": "code",
   "execution_count": null,
   "id": "d42d393c",
   "metadata": {},
   "outputs": [],
   "source": [
    "wordcnt_z.groupby(['School Year', 'Enrolled Grade'])['Word Count'].describe()"
   ]
  },
  {
   "cell_type": "markdown",
   "id": "67ae0ac5",
   "metadata": {},
   "source": [
    "## Regression bar plots"
   ]
  },
  {
   "cell_type": "code",
   "execution_count": null,
   "id": "229be780",
   "metadata": {
    "scrolled": false
   },
   "outputs": [],
   "source": [
    "# plt.figure(figsize = (10,8))\n",
    "# # sns.barplot(num_asgmt_lsn['Num of Assignments Graded'],num_asgmt_lsn['Word Count'], estimator=sum)\n",
    "# sns.lmplot(num_asgmt_lsn['Num of Assignments Graded'],num_asgmt_lsn['Word Count'], data=num_asgmt_lsn,\n",
    "#             scatter_kws={\"color\": \"black\",'s':12}, truncate = False, hue='School Year',\n",
    "#             line_kws={\"color\": \"red\"}, ci=None) #, scatter=False)\n",
    "# plt.xlabel('Number of Assignments')\n",
    "# plt.ylabel('Word Count')\n",
    "# plt.title(\"Number of Assignments Graded vs. Word Count\", fontsize=15)\n",
    "# # plt.savefig(os.path.join(path,'Word Count Bar Chart w/ Regression.png'))\n",
    "# plt.show()"
   ]
  },
  {
   "cell_type": "code",
   "execution_count": null,
   "id": "43ae5290",
   "metadata": {},
   "outputs": [],
   "source": [
    "# num_asgmt_lsn.to_csv(os.path.join(path, 'num_asgmt_lsn.csv'))"
   ]
  },
  {
   "cell_type": "code",
   "execution_count": null,
   "id": "e6925b0e",
   "metadata": {},
   "outputs": [],
   "source": [
    "# num_asgmt_lsn.pivot(index='School Year', columns='Num of Assignments Graded', values='Word Count') -- duplicates "
   ]
  },
  {
   "cell_type": "code",
   "execution_count": null,
   "id": "fbd5e631",
   "metadata": {},
   "outputs": [],
   "source": [
    "# ## Remove outliers\n",
    "# zn = np.abs(stats.zscore(wordcnt2['Word Count']))\n",
    "# print(zn)\n",
    "# # threshold = 3\n",
    "# print(np.where(zn > 3))\n",
    "# newdf = wordcnt2\n",
    "# newdf['z'] = zn\n",
    "\n",
    "# newdf.drop(newdf[newdf['z'] >3].index, inplace=True)"
   ]
  },
  {
   "cell_type": "code",
   "execution_count": null,
   "id": "1e8c666c",
   "metadata": {},
   "outputs": [],
   "source": [
    "# newnew = newdf.groupby(['School Year','Student ID','Writing Lesson Category', 'Student Assignment ID'])['Word Count'].mean()\n",
    "# newnew = pd.DataFrame(newnew)\n",
    "# newnew = newnew.reset_index()\n",
    "# newnew"
   ]
  },
  {
   "cell_type": "code",
   "execution_count": null,
   "id": "6ccefe7a",
   "metadata": {},
   "outputs": [],
   "source": [
    "# wc = newnew.groupby(['School Year','Student ID','Writing Lesson Category'])['Word Count'].mean()\n",
    "# na = newnew.groupby(['School Year','Student ID','Writing Lesson Category'])['Student Assignment ID'].count()\n",
    "\n",
    "# newnewnew = pd.merge(wc,na,on=['School Year','Student ID','Writing Lesson Category'], how='inner')\n",
    "\n",
    "# newnewnew = newnewnew.reset_index()\n",
    "\n",
    "# newnewnew"
   ]
  },
  {
   "cell_type": "code",
   "execution_count": null,
   "id": "e5f523d7",
   "metadata": {},
   "outputs": [],
   "source": [
    "# newnewnew.describe()"
   ]
  },
  {
   "cell_type": "code",
   "execution_count": null,
   "id": "2fac2db4",
   "metadata": {},
   "outputs": [],
   "source": [
    "# plt.figure(figsize = (10,8))\n",
    "# # sns.barplot(num_asgmt_lsn['Num of Assignments Graded'],num_asgmt_lsn['Word Count'], estimator=sum)\n",
    "# sns.lmplot('Student Assignment ID','Word Count', data=newnewnew,hue='Writing Lesson Category')\n",
    "# plt.xlabel('Number of Assignments')\n",
    "# plt.ylabel('Word Count')\n",
    "# plt.title(\"Number of Assignments Graded vs. Word Count\", fontsize=15)\n",
    "# # plt.savefig(os.path.join(path,'Word Count Bar Chart w/ Regression.png'))\n",
    "# plt.show()"
   ]
  },
  {
   "cell_type": "code",
   "execution_count": null,
   "id": "1af7a65e",
   "metadata": {},
   "outputs": [],
   "source": []
  }
 ],
 "metadata": {
  "kernelspec": {
   "display_name": "Python 3",
   "language": "python",
   "name": "python3"
  },
  "language_info": {
   "codemirror_mode": {
    "name": "ipython",
    "version": 3
   },
   "file_extension": ".py",
   "mimetype": "text/x-python",
   "name": "python",
   "nbconvert_exporter": "python",
   "pygments_lexer": "ipython3",
   "version": "3.8.8"
  }
 },
 "nbformat": 4,
 "nbformat_minor": 5
}
