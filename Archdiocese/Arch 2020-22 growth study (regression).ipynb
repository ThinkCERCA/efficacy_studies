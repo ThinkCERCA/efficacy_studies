{
 "cells": [
  {
   "cell_type": "code",
   "execution_count": 1,
   "id": "68abfc6e",
   "metadata": {},
   "outputs": [],
   "source": [
    "# import packages\n",
    "import pandas as pd\n",
    "import os\n",
    "import glob\n",
    "import random\n",
    "import numpy as np\n",
    "import statistics\n",
    "import warnings\n",
    "warnings.filterwarnings('ignore')\n",
    "\n",
    "from scipy.stats import ttest_rel\n",
    "import matplotlib.pyplot as plt\n",
    "import seaborn as sns\n",
    "from matplotlib import rcParams\n",
    "import matplotlib.patches as mpatches\n",
    "\n",
    "import statsmodels.api as sm\n",
    "from sklearn.metrics import mean_squared_error\n",
    "from sklearn.metrics import accuracy_score\n",
    "from sklearn.model_selection import train_test_split\n",
    "from sklearn.pipeline import make_pipeline\n",
    "from sklearn.preprocessing import PolynomialFeatures\n",
    "from sklearn.linear_model import LassoCV\n",
    "from sklearn.ensemble import RandomForestRegressor\n",
    "from sklearn.metrics import r2_score\n",
    "import statsmodels.formula.api as smf\n",
    "from scipy import stats\n",
    "from scipy.stats import norm"
   ]
  },
  {
   "cell_type": "markdown",
   "id": "5f486fb0",
   "metadata": {},
   "source": [
    "## Data Prep"
   ]
  },
  {
   "cell_type": "code",
   "execution_count": 2,
   "id": "11299d01",
   "metadata": {},
   "outputs": [],
   "source": [
    "path = r'/Users/spencersu/Desktop/Efficacy Studies/Archdiocese'\n",
    "df = pd.read_csv(os.path.join(path, 'Arch 2020-22 growth.csv'))\n",
    "\n",
    "\n",
    "## clean the columns\n",
    "\n",
    "df = df.iloc[:,1:]\n",
    "df = df.rename(columns = {'Student Id [Sensitive]':'student_id', 'Full Name [Sensitive]':'student_name',\n",
    "                         'School Year':'school_year','School Name':'school_name','Class Grade Level':'grade',\n",
    "                         'Teacher Name [Sensitive]':'teacher_name','Lesson Type':'lesson_type',\n",
    "                         'Multiple Choice Score':'reading_score','Word Count In Final Writing':'word_count',\n",
    "                         'Number of Graded Writing Lessons':'num_graded_writing','Number of Lessons':'num_lesson'})\n",
    "df['word_count'] = pd.to_numeric(df['word_count'],errors='coerce')"
   ]
  },
  {
   "cell_type": "code",
   "execution_count": 3,
   "id": "325a86c6",
   "metadata": {},
   "outputs": [],
   "source": [
    "## word count\n",
    "wc_left = df[df['word_count'].notna()].groupby(['student_id','student_name',\n",
    "                                                'school_year','school_name',\n",
    "                                                'grade','teacher_name'])['num_lesson','num_graded_writing'].sum()\n",
    "wc_right = df[df['word_count'].notna()].groupby(['student_id','student_name',\n",
    "                                                 'school_year','school_name',\n",
    "                                                 'grade','teacher_name','lesson_type'])['word_count'].mean()\n",
    "\n",
    "wc_reg = pd.merge(wc_left, wc_right, on=['student_id','student_name','school_year','school_name','grade','teacher_name'], how='inner')\n",
    "wc_reg = wc_reg.reset_index()\n",
    "\n",
    "\n",
    "## Reading score\n",
    "rd_left = df[df['reading_score'].notna()].groupby(['student_id','student_name',\n",
    "                                                   'school_year','school_name',\n",
    "                                                   'grade','teacher_name'])['num_lesson','num_graded_writing'].sum()\n",
    "\n",
    "rd_right = df[df['reading_score'].notna()].groupby(['student_id','student_name',\n",
    "                                                    'school_year','school_name',\n",
    "                                                    'grade','teacher_name','lesson_type'])['reading_score'].mean()\n",
    "\n",
    "rd_reg = pd.merge(rd_left, rd_right, on=['student_id','student_name','school_year','school_name','grade','teacher_name'], how='inner')\n",
    "rd_reg = rd_reg.reset_index()"
   ]
  },
  {
   "cell_type": "code",
   "execution_count": 7,
   "id": "249503ab",
   "metadata": {},
   "outputs": [],
   "source": [
    "wc_reg= wc_reg[wc_reg['school_year'] == '2021-2022']\n",
    "rd_reg= rd_reg[rd_reg['school_year'] == '2021-2022']"
   ]
  },
  {
   "cell_type": "code",
   "execution_count": 8,
   "id": "7b8cbdf1",
   "metadata": {},
   "outputs": [
    {
     "name": "stdout",
     "output_type": "stream",
     "text": [
      "                            OLS Regression Results                            \n",
      "==============================================================================\n",
      "Dep. Variable:             word_count   R-squared:                       0.372\n",
      "Model:                            OLS   Adj. R-squared:                  0.364\n",
      "Method:                 Least Squares   F-statistic:                     45.18\n",
      "Date:                Sun, 03 Jul 2022   Prob (F-statistic):           1.35e-97\n",
      "Time:                        18:33:08   Log-Likelihood:                -6672.2\n",
      "No. Observations:                1081   AIC:                         1.337e+04\n",
      "Df Residuals:                    1066   BIC:                         1.345e+04\n",
      "Df Model:                          14                                         \n",
      "Covariance Type:            nonrobust                                         \n",
      "==========================================================================================================================\n",
      "                                                             coef    std err          t      P>|t|      [0.025      0.975]\n",
      "--------------------------------------------------------------------------------------------------------------------------\n",
      "Intercept                                                 78.5654     16.815      4.672      0.000      45.571     111.560\n",
      "C(grade)[T.4]                                            -15.2714     20.721     -0.737      0.461     -55.930      25.387\n",
      "C(grade)[T.5]                                             33.8333     19.762      1.712      0.087      -4.943      72.609\n",
      "C(grade)[T.6]                                             13.6955     19.739      0.694      0.488     -25.036      52.427\n",
      "C(grade)[T.7]                                             85.2010     19.734      4.317      0.000      46.479     123.923\n",
      "C(grade)[T.8]                                             96.8582     18.583      5.212      0.000      60.394     133.322\n",
      "C(school_name)[T.Saint Alphonsus Liguori School]         -55.3523     14.702     -3.765      0.000     -84.200     -26.505\n",
      "C(school_name)[T.St Anastasia School]                     99.3496     17.063      5.822      0.000      65.869     132.831\n",
      "C(school_name)[T.St Thomas the Apostle School]           -98.5647     34.302     -2.873      0.004    -165.871     -31.258\n",
      "C(school_name)[T.St. Albert the Great Catholic School]    38.0445     15.015      2.534      0.011       8.583      67.506\n",
      "C(school_name)[T.St. Ann School]                         -75.9744     19.116     -3.974      0.000    -113.483     -38.466\n",
      "C(school_name)[T.St. Edward School]                       -0.5795     14.313     -0.040      0.968     -28.664      27.505\n",
      "C(school_name)[T.St. John Berchmans School]               51.9143     16.587      3.130      0.002      19.367      84.462\n",
      "C(school_name)[T.St. John Brebeuf School]                178.7177     13.982     12.782      0.000     151.282     206.154\n",
      "num_lesson                                                -0.1666      1.360     -0.123      0.903      -2.836       2.502\n",
      "==============================================================================\n",
      "Omnibus:                      338.709   Durbin-Watson:                   2.083\n",
      "Prob(Omnibus):                  0.000   Jarque-Bera (JB):             1681.962\n",
      "Skew:                           1.369   Prob(JB):                         0.00\n",
      "Kurtosis:                       8.463   Cond. No.                         65.4\n",
      "==============================================================================\n",
      "\n",
      "Notes:\n",
      "[1] Standard Errors assume that the covariance matrix of the errors is correctly specified.\n"
     ]
    }
   ],
   "source": [
    "results = smf.ols('word_count ~ num_lesson + C(grade) + C(school_name)', data=wc_reg).fit()\n",
    "print(results.summary())"
   ]
  },
  {
   "cell_type": "code",
   "execution_count": 9,
   "id": "fc31d858",
   "metadata": {},
   "outputs": [
    {
     "name": "stdout",
     "output_type": "stream",
     "text": [
      "                            OLS Regression Results                            \n",
      "==============================================================================\n",
      "Dep. Variable:             word_count   R-squared:                       0.372\n",
      "Model:                            OLS   Adj. R-squared:                  0.364\n",
      "Method:                 Least Squares   F-statistic:                     45.18\n",
      "Date:                Sun, 03 Jul 2022   Prob (F-statistic):           1.35e-97\n",
      "Time:                        18:33:14   Log-Likelihood:                -6672.2\n",
      "No. Observations:                1081   AIC:                         1.337e+04\n",
      "Df Residuals:                    1066   BIC:                         1.345e+04\n",
      "Df Model:                          14                                         \n",
      "Covariance Type:            nonrobust                                         \n",
      "==========================================================================================================================\n",
      "                                                             coef    std err          t      P>|t|      [0.025      0.975]\n",
      "--------------------------------------------------------------------------------------------------------------------------\n",
      "Intercept                                                 77.6230     14.952      5.191      0.000      48.284     106.962\n",
      "C(grade)[T.4]                                            -14.9906     20.594     -0.728      0.467     -55.400      25.419\n",
      "C(grade)[T.5]                                             34.1429     19.520      1.749      0.081      -4.159      72.445\n",
      "C(grade)[T.6]                                             14.1924     19.148      0.741      0.459     -23.380      51.765\n",
      "C(grade)[T.7]                                             85.5597     19.598      4.366      0.000      47.105     124.015\n",
      "C(grade)[T.8]                                             97.3060     18.435      5.278      0.000      61.134     133.478\n",
      "C(school_name)[T.Saint Alphonsus Liguori School]         -55.1569     15.054     -3.664      0.000     -84.696     -25.618\n",
      "C(school_name)[T.St Anastasia School]                     99.3087     17.650      5.627      0.000      64.676     133.941\n",
      "C(school_name)[T.St Thomas the Apostle School]           -98.2366     34.136     -2.878      0.004    -165.219     -31.255\n",
      "C(school_name)[T.St. Albert the Great Catholic School]    38.1506     16.087      2.372      0.018       6.585      69.716\n",
      "C(school_name)[T.St. Ann School]                         -75.6532     18.911     -4.001      0.000    -112.760     -38.547\n",
      "C(school_name)[T.St. Edward School]                       -0.4076     14.543     -0.028      0.978     -28.944      28.129\n",
      "C(school_name)[T.St. John Berchmans School]               52.1837     16.548      3.154      0.002      19.714      84.653\n",
      "C(school_name)[T.St. John Brebeuf School]                178.8523     14.666     12.195      0.000     150.076     207.629\n",
      "num_graded_writing                                        -0.1246      1.449     -0.086      0.931      -2.968       2.718\n",
      "==============================================================================\n",
      "Omnibus:                      338.800   Durbin-Watson:                   2.083\n",
      "Prob(Omnibus):                  0.000   Jarque-Bera (JB):             1682.604\n",
      "Skew:                           1.369   Prob(JB):                         0.00\n",
      "Kurtosis:                       8.464   Cond. No.                         46.9\n",
      "==============================================================================\n",
      "\n",
      "Notes:\n",
      "[1] Standard Errors assume that the covariance matrix of the errors is correctly specified.\n"
     ]
    }
   ],
   "source": [
    "results = smf.ols('word_count ~ num_graded_writing + C(grade) + C(school_name)', data=wc_reg).fit()\n",
    "print(results.summary())"
   ]
  },
  {
   "cell_type": "code",
   "execution_count": 10,
   "id": "a61204d1",
   "metadata": {},
   "outputs": [
    {
     "name": "stdout",
     "output_type": "stream",
     "text": [
      "                            OLS Regression Results                            \n",
      "==============================================================================\n",
      "Dep. Variable:          reading_score   R-squared:                       0.166\n",
      "Model:                            OLS   Adj. R-squared:                  0.158\n",
      "Method:                 Least Squares   F-statistic:                     19.64\n",
      "Date:                Sun, 03 Jul 2022   Prob (F-statistic):           9.78e-49\n",
      "Time:                        18:33:17   Log-Likelihood:                -6715.5\n",
      "No. Observations:                1496   AIC:                         1.346e+04\n",
      "Df Residuals:                    1480   BIC:                         1.355e+04\n",
      "Df Model:                          15                                         \n",
      "Covariance Type:            nonrobust                                         \n",
      "==========================================================================================================================\n",
      "                                                             coef    std err          t      P>|t|      [0.025      0.975]\n",
      "--------------------------------------------------------------------------------------------------------------------------\n",
      "Intercept                                                 63.4558      2.971     21.358      0.000      57.628      69.284\n",
      "C(grade)[T.4]                                             -7.5379      3.673     -2.052      0.040     -14.743      -0.333\n",
      "C(grade)[T.5]                                            -10.3370      3.446     -3.000      0.003     -17.097      -3.577\n",
      "C(grade)[T.6]                                             -6.3529      3.512     -1.809      0.071     -13.242       0.536\n",
      "C(grade)[T.7]                                              2.1045      3.550      0.593      0.553      -4.859       9.068\n",
      "C(grade)[T.8]                                              2.0443      3.421      0.598      0.550      -4.666       8.754\n",
      "C(school_name)[T.Saint Alphonsus Liguori School]           4.7313      2.702      1.751      0.080      -0.568      10.031\n",
      "C(school_name)[T.St Anastasia School]                     20.6237      2.699      7.641      0.000      15.329      25.918\n",
      "C(school_name)[T.St Thomas the Apostle School]             9.8870      6.361      1.554      0.120      -2.590      22.364\n",
      "C(school_name)[T.St. Albert the Great Catholic School]    12.5486      2.664      4.711      0.000       7.324      17.773\n",
      "C(school_name)[T.St. Ann School]                         -16.4890      3.640     -4.529      0.000     -23.630      -9.348\n",
      "C(school_name)[T.St. Edward School]                       10.6122      2.578      4.117      0.000       5.556      15.668\n",
      "C(school_name)[T.St. John Berchmans School]                0.8574      3.088      0.278      0.781      -5.200       6.915\n",
      "C(school_name)[T.St. John Brebeuf School]                  9.6284      2.579      3.734      0.000       4.570      14.687\n",
      "C(school_name)[T.St. William School]                       5.1536      2.700      1.909      0.056      -0.143      10.450\n",
      "num_lesson                                                -0.0025      0.200     -0.012      0.990      -0.394       0.389\n",
      "==============================================================================\n",
      "Omnibus:                       84.256   Durbin-Watson:                   1.818\n",
      "Prob(Omnibus):                  0.000   Jarque-Bera (JB):               97.333\n",
      "Skew:                          -0.612   Prob(JB):                     7.32e-22\n",
      "Kurtosis:                       3.249   Cond. No.                         111.\n",
      "==============================================================================\n",
      "\n",
      "Notes:\n",
      "[1] Standard Errors assume that the covariance matrix of the errors is correctly specified.\n"
     ]
    }
   ],
   "source": [
    "results = smf.ols('reading_score ~ num_lesson + C(grade) + C(school_name)', data=rd_reg).fit()\n",
    "print(results.summary())"
   ]
  },
  {
   "cell_type": "code",
   "execution_count": null,
   "id": "c11f29a1",
   "metadata": {},
   "outputs": [],
   "source": []
  }
 ],
 "metadata": {
  "kernelspec": {
   "display_name": "Python 3",
   "language": "python",
   "name": "python3"
  },
  "language_info": {
   "codemirror_mode": {
    "name": "ipython",
    "version": 3
   },
   "file_extension": ".py",
   "mimetype": "text/x-python",
   "name": "python",
   "nbconvert_exporter": "python",
   "pygments_lexer": "ipython3",
   "version": "3.8.8"
  }
 },
 "nbformat": 4,
 "nbformat_minor": 5
}
